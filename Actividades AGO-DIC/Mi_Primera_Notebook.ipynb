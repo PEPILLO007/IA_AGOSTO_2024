{
  "nbformat": 4,
  "nbformat_minor": 0,
  "metadata": {
    "colab": {
      "provenance": [],
      "authorship_tag": "ABX9TyPRXZywQxAu1J2q3O2FGDeq",
      "include_colab_link": true
    },
    "kernelspec": {
      "name": "python3",
      "display_name": "Python 3"
    },
    "language_info": {
      "name": "python"
    }
  },
  "cells": [
    {
      "cell_type": "markdown",
      "metadata": {
        "id": "view-in-github",
        "colab_type": "text"
      },
      "source": [
        "<a href=\"https://colab.research.google.com/github/PEPILLO007/IA_AGOSTO_2024/blob/main/Mi_Primera_Notebook.ipynb\" target=\"_parent\"><img src=\"https://colab.research.google.com/assets/colab-badge.svg\" alt=\"Open In Colab\"/></a>"
      ]
    },
    {
      "cell_type": "code",
      "execution_count": null,
      "metadata": {
        "id": "w59pveOfLt1t"
      },
      "outputs": [],
      "source": [
        "# **Mi Primer Notebook**"
      ]
    },
    {
      "cell_type": "markdown",
      "source": [
        "# **>En este notebook se incluyen ejemplos sencillos de uso del lenguaje Python**\n",
        "\n"
      ],
      "metadata": {
        "id": "XhX4bzT8L_60"
      }
    },
    {
      "cell_type": "code",
      "source": [
        "print(\"¡Hola Mundo!\")"
      ],
      "metadata": {
        "colab": {
          "base_uri": "https://localhost:8080/"
        },
        "id": "snsgS5eIMhye",
        "outputId": "55de6213-2326-40c8-ad38-a93c355d5a25"
      },
      "execution_count": 3,
      "outputs": [
        {
          "output_type": "stream",
          "name": "stdout",
          "text": [
            "¡Hola Mundo!\n"
          ]
        }
      ]
    }
  ]
}
