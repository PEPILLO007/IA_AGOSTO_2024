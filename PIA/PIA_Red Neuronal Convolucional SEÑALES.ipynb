{
  "nbformat": 4,
  "nbformat_minor": 0,
  "metadata": {
    "colab": {
      "provenance": []
    },
    "kernelspec": {
      "name": "python3",
      "display_name": "Python 3"
    },
    "language_info": {
      "name": "python"
    }
  },
  "cells": [
    {
      "cell_type": "code",
      "source": [
        "# PIA: Entrenamiento de una red neuronal convolucional\n",
        "# Nombre y matrícula de los integrantes del equipo:\n",
        "# 1960037     Luis Alonso Quintanilla Rodríguez\n",
        "# 1999357     Diego de la Rosa Ornelas\n",
        "# 2023965     Nestor Antonio Cervantes Estrada\n",
        "# 2082426     Elian Isac Gonzalez Lopez\n",
        "# 2109186     Luis Eduardo Tenorio Hernández\n",
        "# Hora: N4"
      ],
      "metadata": {
        "id": "KmofGgYtKywH"
      },
      "execution_count": 1,
      "outputs": []
    },
    {
      "cell_type": "code",
      "source": [
        "# PASO 1. Ingresar librerías\n",
        "\n",
        "import numpy as np\n",
        "import pandas as pd\n",
        "import matplotlib.pyplot as plt\n",
        "import tensorflow as tf\n",
        "from tensorflow.keras.models import Sequential\n",
        "from tensorflow.keras.layers import Conv2D, MaxPooling2D, Flatten, Dense, Dropout\n",
        "from tensorflow.keras.utils import to_categorical\n",
        "from sklearn.model_selection import train_test_split"
      ],
      "metadata": {
        "id": "JM5ZVc15Mpwo"
      },
      "execution_count": 2,
      "outputs": []
    },
    {
      "cell_type": "code",
      "source": [
        "# Paso 2. Cargar datos\n",
        "\n",
        "# Preparación de kaggle en colab\n",
        "\n",
        "!pip install -q kaggle\n",
        "\n",
        "from google.colab import files\n",
        "files.upload()\n",
        "\n",
        "!mkdir -p ~/.kaggle\n",
        "!cp kaggle.json ~/.kaggle/\n",
        "!chmod 600 ~/.kaggle/kaggle.json\n",
        "\n",
        "# Ingreso de datos\n",
        "\n",
        "!kaggle datasets download -d datamunge/sign-language-mnist\n",
        "\n",
        "# Descompresión de datos\n",
        "\n",
        "import zipfile\n",
        "with zipfile.ZipFile(\"sign-language-mnist.zip\", \"r\") as zip_ref:\n",
        "    zip_ref.extractall()"
      ],
      "metadata": {
        "colab": {
          "base_uri": "https://localhost:8080/",
          "height": 160
        },
        "id": "1e3UjrcNM3a0",
        "outputId": "958493f5-db9e-42cc-8420-66e68a65386a"
      },
      "execution_count": 3,
      "outputs": [
        {
          "output_type": "display_data",
          "data": {
            "text/plain": [
              "<IPython.core.display.HTML object>"
            ],
            "text/html": [
              "\n",
              "     <input type=\"file\" id=\"files-c43491ca-6fab-4522-9b9f-51b1513560e9\" name=\"files[]\" multiple disabled\n",
              "        style=\"border:none\" />\n",
              "     <output id=\"result-c43491ca-6fab-4522-9b9f-51b1513560e9\">\n",
              "      Upload widget is only available when the cell has been executed in the\n",
              "      current browser session. Please rerun this cell to enable.\n",
              "      </output>\n",
              "      <script>// Copyright 2017 Google LLC\n",
              "//\n",
              "// Licensed under the Apache License, Version 2.0 (the \"License\");\n",
              "// you may not use this file except in compliance with the License.\n",
              "// You may obtain a copy of the License at\n",
              "//\n",
              "//      http://www.apache.org/licenses/LICENSE-2.0\n",
              "//\n",
              "// Unless required by applicable law or agreed to in writing, software\n",
              "// distributed under the License is distributed on an \"AS IS\" BASIS,\n",
              "// WITHOUT WARRANTIES OR CONDITIONS OF ANY KIND, either express or implied.\n",
              "// See the License for the specific language governing permissions and\n",
              "// limitations under the License.\n",
              "\n",
              "/**\n",
              " * @fileoverview Helpers for google.colab Python module.\n",
              " */\n",
              "(function(scope) {\n",
              "function span(text, styleAttributes = {}) {\n",
              "  const element = document.createElement('span');\n",
              "  element.textContent = text;\n",
              "  for (const key of Object.keys(styleAttributes)) {\n",
              "    element.style[key] = styleAttributes[key];\n",
              "  }\n",
              "  return element;\n",
              "}\n",
              "\n",
              "// Max number of bytes which will be uploaded at a time.\n",
              "const MAX_PAYLOAD_SIZE = 100 * 1024;\n",
              "\n",
              "function _uploadFiles(inputId, outputId) {\n",
              "  const steps = uploadFilesStep(inputId, outputId);\n",
              "  const outputElement = document.getElementById(outputId);\n",
              "  // Cache steps on the outputElement to make it available for the next call\n",
              "  // to uploadFilesContinue from Python.\n",
              "  outputElement.steps = steps;\n",
              "\n",
              "  return _uploadFilesContinue(outputId);\n",
              "}\n",
              "\n",
              "// This is roughly an async generator (not supported in the browser yet),\n",
              "// where there are multiple asynchronous steps and the Python side is going\n",
              "// to poll for completion of each step.\n",
              "// This uses a Promise to block the python side on completion of each step,\n",
              "// then passes the result of the previous step as the input to the next step.\n",
              "function _uploadFilesContinue(outputId) {\n",
              "  const outputElement = document.getElementById(outputId);\n",
              "  const steps = outputElement.steps;\n",
              "\n",
              "  const next = steps.next(outputElement.lastPromiseValue);\n",
              "  return Promise.resolve(next.value.promise).then((value) => {\n",
              "    // Cache the last promise value to make it available to the next\n",
              "    // step of the generator.\n",
              "    outputElement.lastPromiseValue = value;\n",
              "    return next.value.response;\n",
              "  });\n",
              "}\n",
              "\n",
              "/**\n",
              " * Generator function which is called between each async step of the upload\n",
              " * process.\n",
              " * @param {string} inputId Element ID of the input file picker element.\n",
              " * @param {string} outputId Element ID of the output display.\n",
              " * @return {!Iterable<!Object>} Iterable of next steps.\n",
              " */\n",
              "function* uploadFilesStep(inputId, outputId) {\n",
              "  const inputElement = document.getElementById(inputId);\n",
              "  inputElement.disabled = false;\n",
              "\n",
              "  const outputElement = document.getElementById(outputId);\n",
              "  outputElement.innerHTML = '';\n",
              "\n",
              "  const pickedPromise = new Promise((resolve) => {\n",
              "    inputElement.addEventListener('change', (e) => {\n",
              "      resolve(e.target.files);\n",
              "    });\n",
              "  });\n",
              "\n",
              "  const cancel = document.createElement('button');\n",
              "  inputElement.parentElement.appendChild(cancel);\n",
              "  cancel.textContent = 'Cancel upload';\n",
              "  const cancelPromise = new Promise((resolve) => {\n",
              "    cancel.onclick = () => {\n",
              "      resolve(null);\n",
              "    };\n",
              "  });\n",
              "\n",
              "  // Wait for the user to pick the files.\n",
              "  const files = yield {\n",
              "    promise: Promise.race([pickedPromise, cancelPromise]),\n",
              "    response: {\n",
              "      action: 'starting',\n",
              "    }\n",
              "  };\n",
              "\n",
              "  cancel.remove();\n",
              "\n",
              "  // Disable the input element since further picks are not allowed.\n",
              "  inputElement.disabled = true;\n",
              "\n",
              "  if (!files) {\n",
              "    return {\n",
              "      response: {\n",
              "        action: 'complete',\n",
              "      }\n",
              "    };\n",
              "  }\n",
              "\n",
              "  for (const file of files) {\n",
              "    const li = document.createElement('li');\n",
              "    li.append(span(file.name, {fontWeight: 'bold'}));\n",
              "    li.append(span(\n",
              "        `(${file.type || 'n/a'}) - ${file.size} bytes, ` +\n",
              "        `last modified: ${\n",
              "            file.lastModifiedDate ? file.lastModifiedDate.toLocaleDateString() :\n",
              "                                    'n/a'} - `));\n",
              "    const percent = span('0% done');\n",
              "    li.appendChild(percent);\n",
              "\n",
              "    outputElement.appendChild(li);\n",
              "\n",
              "    const fileDataPromise = new Promise((resolve) => {\n",
              "      const reader = new FileReader();\n",
              "      reader.onload = (e) => {\n",
              "        resolve(e.target.result);\n",
              "      };\n",
              "      reader.readAsArrayBuffer(file);\n",
              "    });\n",
              "    // Wait for the data to be ready.\n",
              "    let fileData = yield {\n",
              "      promise: fileDataPromise,\n",
              "      response: {\n",
              "        action: 'continue',\n",
              "      }\n",
              "    };\n",
              "\n",
              "    // Use a chunked sending to avoid message size limits. See b/62115660.\n",
              "    let position = 0;\n",
              "    do {\n",
              "      const length = Math.min(fileData.byteLength - position, MAX_PAYLOAD_SIZE);\n",
              "      const chunk = new Uint8Array(fileData, position, length);\n",
              "      position += length;\n",
              "\n",
              "      const base64 = btoa(String.fromCharCode.apply(null, chunk));\n",
              "      yield {\n",
              "        response: {\n",
              "          action: 'append',\n",
              "          file: file.name,\n",
              "          data: base64,\n",
              "        },\n",
              "      };\n",
              "\n",
              "      let percentDone = fileData.byteLength === 0 ?\n",
              "          100 :\n",
              "          Math.round((position / fileData.byteLength) * 100);\n",
              "      percent.textContent = `${percentDone}% done`;\n",
              "\n",
              "    } while (position < fileData.byteLength);\n",
              "  }\n",
              "\n",
              "  // All done.\n",
              "  yield {\n",
              "    response: {\n",
              "      action: 'complete',\n",
              "    }\n",
              "  };\n",
              "}\n",
              "\n",
              "scope.google = scope.google || {};\n",
              "scope.google.colab = scope.google.colab || {};\n",
              "scope.google.colab._files = {\n",
              "  _uploadFiles,\n",
              "  _uploadFilesContinue,\n",
              "};\n",
              "})(self);\n",
              "</script> "
            ]
          },
          "metadata": {}
        },
        {
          "output_type": "stream",
          "name": "stdout",
          "text": [
            "Saving kaggle.json to kaggle.json\n",
            "Dataset URL: https://www.kaggle.com/datasets/datamunge/sign-language-mnist\n",
            "License(s): CC0-1.0\n",
            "Downloading sign-language-mnist.zip to /content\n",
            " 91% 57.0M/62.6M [00:01<00:00, 45.5MB/s]\n",
            "100% 62.6M/62.6M [00:01<00:00, 43.3MB/s]\n"
          ]
        }
      ]
    },
    {
      "cell_type": "code",
      "source": [
        "# PASO 3. Preprocesamiento de datos\n",
        "\n",
        "# Separación de datos de entrenamiento y prueba\n",
        "\n",
        "train_df = pd.read_csv(\"sign_mnist_train.csv\")\n",
        "test_df = pd.read_csv(\"sign_mnist_test.csv\")\n",
        "\n",
        "# Separar las características (imágenes) y las etiquetas\n",
        "\n",
        "X_train = train_df.drop('label', axis=1).values\n",
        "y_train = train_df['label'].values\n",
        "X_test = test_df.drop('label', axis=1).values\n",
        "y_test = test_df['label'].values\n",
        "\n",
        "# Normalización\n",
        "\n",
        "X_train = X_train / 255.0\n",
        "X_test = X_test / 255.0\n",
        "\n",
        "# En este caso, las imágenes están en formato 1D, por lo que debemos convertirlas a 2D (28x28)\n",
        "\n",
        "X_train = X_train.reshape(-1, 28, 28, 1)\n",
        "X_test = X_test.reshape(-1, 28, 28, 1)\n",
        "\n",
        "y_train = to_categorical(y_train, 25)\n",
        "y_test = to_categorical(y_test, 25)\n",
        "\n",
        "X_train, X_val, y_train, y_val = train_test_split(X_train, y_train, test_size=0.2, random_state=42)"
      ],
      "metadata": {
        "id": "G5yKROLdM8ld"
      },
      "execution_count": 4,
      "outputs": []
    },
    {
      "cell_type": "code",
      "execution_count": 5,
      "metadata": {
        "colab": {
          "base_uri": "https://localhost:8080/"
        },
        "id": "TH2gJvpvKY9L",
        "outputId": "d0fdbe97-5cc8-4006-cf21-76ffaf085fab"
      },
      "outputs": [
        {
          "output_type": "stream",
          "name": "stdout",
          "text": [
            "Epoch 1/20\n",
            "172/172 [==============================] - 26s 127ms/step - loss: 2.6259 - accuracy: 0.2074 - val_loss: 1.3423 - val_accuracy: 0.6667\n",
            "Epoch 2/20\n",
            "172/172 [==============================] - 23s 135ms/step - loss: 1.2338 - accuracy: 0.6010 - val_loss: 0.5639 - val_accuracy: 0.8698\n",
            "Epoch 3/20\n",
            "172/172 [==============================] - 21s 124ms/step - loss: 0.7647 - accuracy: 0.7471 - val_loss: 0.3021 - val_accuracy: 0.9377\n",
            "Epoch 4/20\n",
            "172/172 [==============================] - 21s 122ms/step - loss: 0.5377 - accuracy: 0.8194 - val_loss: 0.1735 - val_accuracy: 0.9681\n",
            "Epoch 5/20\n",
            "172/172 [==============================] - 25s 143ms/step - loss: 0.4022 - accuracy: 0.8646 - val_loss: 0.1022 - val_accuracy: 0.9856\n",
            "Epoch 6/20\n",
            "172/172 [==============================] - 20s 118ms/step - loss: 0.3161 - accuracy: 0.8923 - val_loss: 0.0606 - val_accuracy: 0.9947\n",
            "Epoch 7/20\n",
            "172/172 [==============================] - 22s 131ms/step - loss: 0.2572 - accuracy: 0.9126 - val_loss: 0.0360 - val_accuracy: 0.9976\n",
            "Epoch 8/20\n",
            "172/172 [==============================] - 21s 124ms/step - loss: 0.2183 - accuracy: 0.9263 - val_loss: 0.0252 - val_accuracy: 0.9982\n",
            "Epoch 9/20\n",
            "172/172 [==============================] - 21s 120ms/step - loss: 0.1938 - accuracy: 0.9351 - val_loss: 0.0173 - val_accuracy: 0.9995\n",
            "Epoch 10/20\n",
            "172/172 [==============================] - 24s 140ms/step - loss: 0.1715 - accuracy: 0.9410 - val_loss: 0.0130 - val_accuracy: 0.9996\n",
            "Epoch 11/20\n",
            "172/172 [==============================] - 21s 122ms/step - loss: 0.1474 - accuracy: 0.9506 - val_loss: 0.0087 - val_accuracy: 0.9998\n",
            "Epoch 12/20\n",
            "172/172 [==============================] - 22s 128ms/step - loss: 0.1272 - accuracy: 0.9553 - val_loss: 0.0068 - val_accuracy: 0.9998\n",
            "Epoch 13/20\n",
            "172/172 [==============================] - 21s 125ms/step - loss: 0.1189 - accuracy: 0.9591 - val_loss: 0.0057 - val_accuracy: 0.9996\n",
            "Epoch 14/20\n",
            "172/172 [==============================] - 21s 121ms/step - loss: 0.1107 - accuracy: 0.9635 - val_loss: 0.0044 - val_accuracy: 0.9998\n",
            "Epoch 15/20\n",
            "172/172 [==============================] - 23s 136ms/step - loss: 0.1032 - accuracy: 0.9652 - val_loss: 0.0033 - val_accuracy: 0.9998\n",
            "Epoch 16/20\n",
            "172/172 [==============================] - 21s 120ms/step - loss: 0.0922 - accuracy: 0.9698 - val_loss: 0.0025 - val_accuracy: 0.9998\n",
            "Epoch 17/20\n",
            "172/172 [==============================] - 20s 117ms/step - loss: 0.0859 - accuracy: 0.9714 - val_loss: 0.0025 - val_accuracy: 1.0000\n",
            "Epoch 18/20\n",
            "172/172 [==============================] - 23s 134ms/step - loss: 0.0869 - accuracy: 0.9715 - val_loss: 0.0020 - val_accuracy: 0.9996\n",
            "Epoch 19/20\n",
            "172/172 [==============================] - 21s 121ms/step - loss: 0.0789 - accuracy: 0.9735 - val_loss: 0.0015 - val_accuracy: 1.0000\n",
            "Epoch 20/20\n",
            "172/172 [==============================] - 20s 119ms/step - loss: 0.0728 - accuracy: 0.9759 - val_loss: 0.0013 - val_accuracy: 1.0000\n",
            "225/225 [==============================] - 2s 9ms/step - loss: 0.1378 - accuracy: 0.9513\n",
            "Precisión en el conjunto de prueba: 0.9513\n"
          ]
        }
      ],
      "source": [
        "# PASO 4. Selección y entrenamiento del modelo\n",
        "\n",
        "# Selección y creación del modelo\n",
        "\n",
        "model = Sequential([\n",
        "    Conv2D(32, (3, 3), activation='relu', input_shape=(28, 28, 1)),\n",
        "    MaxPooling2D((2, 2)),\n",
        "    Dropout(0.25),\n",
        "\n",
        "    Conv2D(64, (3, 3), activation='relu'),\n",
        "    MaxPooling2D((2, 2)),\n",
        "    Dropout(0.25),\n",
        "\n",
        "    Flatten(),\n",
        "    Dense(128, activation='relu'),\n",
        "    Dropout(0.5),\n",
        "    Dense(25, activation='softmax')\n",
        "])\n",
        "\n",
        "model.compile(optimizer='adam',\n",
        "              loss='categorical_crossentropy',\n",
        "              metrics=['accuracy'])\n",
        "\n",
        "# Entrenamiento\n",
        "\n",
        "history = model.fit(X_train, y_train, epochs=20, batch_size=128, validation_data=(X_val, y_val))\n",
        "\n",
        "test_loss, test_acc = model.evaluate(X_test, y_test)\n",
        "print(f'Precisión en el conjunto de prueba: {test_acc:.4f}')"
      ]
    },
    {
      "cell_type": "code",
      "source": [
        "# Gráfico de precisión de entrenamiento vs. precisión de validación durante el entrenamiento de la CNN\n",
        "\n",
        "plt.plot(history.history['accuracy'], label='Precisión de entrenamiento')\n",
        "plt.plot(history.history['val_accuracy'], label='Precisión de validación')\n",
        "plt.xlabel('Época')\n",
        "plt.ylabel('Precisión')\n",
        "plt.legend(loc='lower right')\n",
        "plt.show()"
      ],
      "metadata": {
        "colab": {
          "base_uri": "https://localhost:8080/",
          "height": 451
        },
        "id": "W-dzTMhBNOEe",
        "outputId": "a96902be-d87a-48ad-ea0c-1fdd85471e77"
      },
      "execution_count": 6,
      "outputs": [
        {
          "output_type": "display_data",
          "data": {
            "text/plain": [
              "<Figure size 640x480 with 1 Axes>"
            ],
            "image/png": "[encoded data removed]"
          },
          "metadata": {}
        }
      ]
    },
    {
      "cell_type": "code",
      "source": [
        "# Paso 5. Predicción / Prueba\n",
        "\n",
        "# 5 predicciones\n",
        "\n",
        "predictions = model.predict(X_test[:5])\n",
        "letters = \"ABCDEFGHIJKLMNOPQRSTUVWXYZ\"\n",
        "for i in range(5):\n",
        "    plt.imshow(X_test[i].reshape(28, 28), cmap='gray')\n",
        "    predicted_label = np.argmax(predictions[i])\n",
        "    predicted_letter = letters[predicted_label]\n",
        "    real_label = np.argmax(y_test[i])\n",
        "    real_letter = letters[real_label]\n",
        "    plt.title(f'Predicción: {predicted_letter}, Real: {real_letter}')\n",
        "    plt.axis('off')\n",
        "    plt.show()"
      ],
      "metadata": {
        "colab": {
          "base_uri": "https://localhost:8080/",
          "height": 1000
        },
        "id": "GaNvJSpcNGvd",
        "outputId": "53e010c7-a45b-4948-c496-2c841599289d"
      },
      "execution_count": 7,
      "outputs": [
        {
          "output_type": "stream",
          "name": "stdout",
          "text": [
            "1/1 [==============================] - 0s 367ms/step\n"
          ]
        },
        {
          "output_type": "display_data",
          "data": {
            "text/plain": [
              "<Figure size 640x480 with 1 Axes>"
            ],
            "image/png": "[encoded data removed]"
          },
          "metadata": {}
        },
        {
          "output_type": "display_data",
          "data": {
            "text/plain": [
              "<Figure size 640x480 with 1 Axes>"
            ],
            "image/png": "[encoded data removed]"
          },
          "metadata": {}
        },
        {
          "output_type": "display_data",
          "data": {
            "text/plain": [
              "<Figure size 640x480 with 1 Axes>"
            ],
            "image/png": "[encoded data removed]"
          },
          "metadata": {}
        },
        {
          "output_type": "display_data",
          "data": {
            "text/plain": [
              "<Figure size 640x480 with 1 Axes>"
            ],
            "image/png": "[encoded data removed]"
          },
          "metadata": {}
        },
        {
          "output_type": "display_data",
          "data": {
            "text/plain": [
              "<Figure size 640x480 with 1 Axes>"
            ],
            "image/png": "[encoded data removed]"
          },
          "metadata": {}
        }
      ]
    }
  ]
}